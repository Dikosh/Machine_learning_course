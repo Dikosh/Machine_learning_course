{
 "cells": [
  {
   "cell_type": "markdown",
   "metadata": {},
   "source": [
    "# Day 2\n",
    "\n",
    "\n",
    "\n",
    "Hello, here we are going to talk about:\n",
    "* 1. [Regularizations L1 and L2](#1)\n",
    "* 2. [Logistic Regression](#2)\n",
    "    - 2.1 [Difference between Logistic Regression and Linear Regression](#2.1)\n",
    "    - 2.2 [Why we can't do a classification problem using Regression?](#2.2)\n",
    "* 3. [Decision Tree 101](#3)\n",
    "    - 3.1 [Entropy, Information Gain, Gini Index, Reducing impurity](#3.1)\n",
    "    - 3.2 [How to control leaf height and pruning?](#3.2)\n",
    "* 4. [Random Forest 101](#4)\n",
    "* 5. [What is the Variance and Bias tradeoff](#5)\n",
    "* 6. [Ensemble of models 101](#6)\n",
    "* 7. [What is the SVM classification?](#7)\n",
    "* 8. [Naive Bayes Classification and Gaussian Naive Bayes](#8)\n",
    "* 9. [Metrics](#9)\n",
    "    - 9.1 [Confusion matrix](#9.1)\n",
    "    - 9.2 [Accuracy and Missclassification Rate](#9.2)\n",
    "    - 9.3 [True Positive Rate & True Negative Rate](#9.3)\n",
    "    - 9.4 [False Positive Rate & False Negative Rate](#9.4)\n",
    "    - 9.5 [F1 Score, precision and recall](#9.5)\n",
    "* 10. [Randomized Search CV](#10)\n",
    "* 11. [GridSearch CV](#11)\n",
    "* 12. [BayesianSearch CV](#12)\n",
    "* 13. [ZCA Whitening](#13)"
   ]
  },
  {
   "cell_type": "markdown",
   "metadata": {},
   "source": [
    "<a id='1'></a>"
   ]
  },
  {
   "cell_type": "markdown",
   "metadata": {},
   "source": [
    "## Regularizations L1 and L2\n",
    "\n",
    "Previosly we unterstood the main logic of linear regresion, today we will start from L1 and L2 regularizations, why we use them, how they are can help to our model etc. Nowadays, linear models are often overlooked. Howerer, we should know, that they are giving good result in relation with other non-linear models, so, it is important to know and undestand how they works, and when we can implement them in our models. We know the linear model uses the least squares method to estimate the parameters and we showed how to implement it.\n",
    "\n",
    "Now, we explore how we can improve the linear model by replacing least squares fitting with other fitting procedures. These method will give us better prediction accuracy and model interpretability.\n",
    "\n",
    "The main objective of creating a model(training data) is making sure it fits the data properly and reduce\n",
    "the loss. Sometimes the model that is trained which will fit the data but it may fail and give a poor\n",
    "performance during analyzing of data (test data). This leads to overfitting. Regularization came to\n",
    "overcome overfitting\n",
    "\n",
    "\n",
    "### L1 Lasso Regression\n",
    "Lasso Regression (Least Absolute Shrinkage and Selection Operator) adds “Absolute value of\n",
    "magnitude” of coefficient, as penalty term to the loss function. Lasso shrinks the less important feature’s coefficient to zero; thus, removing some feature altogether. So, this works well for feature selection in case we have a huge number of features.\n",
    "\n",
    "Methods like Cross-validation, Stepwise Regression are there to handle overfitting and perform feature\n",
    "selection work well with a small set of features. These techniques are good when we are dealing with a\n",
    "large set of features.\n",
    "Along with shrinking coefficients, the lasso performs feature selection, as well. (Remember the\n",
    "‘selection‘ in the lasso full-form?) Because some of the coefficients become exactly zero, which is\n",
    "equivalent to the particular feature being excluded from the model.\n",
    "\n",
    "### L2 Regularization (L2 = Ridge Regression)\n",
    "\n",
    "Overfitting happens when the model learns signal as well as noise in the training data and wouldn’t\n",
    "perform well on new/unseen data on which model wasn’t trained on.\n",
    "To avoid overfitting your model on training data like cross-validation sampling, reducing the number\n",
    "of features, pruning, regularization, etc.\n",
    "So to avoid overfitting, we perform Regularization.\n",
    "\n",
    "Regularization adds the penalty as model complexity increases. The regularization parameter\n",
    "(lambda) penalizes all the parameters except intercept so that the model generalizes the data and\n",
    "won’t overfit.\n",
    "Ridge regression adds “squared magnitude of the coefficient\" as penalty term to the loss\n",
    "function. \n",
    "\n",
    "If lambda is zero, then it is equivalent to OLS. But if lambda is very large, then it will add too much\n",
    "weight, and it will lead to under-fitting.\n",
    "Ridge regularization forces the weights to be small but does not make them zero and does not give\n",
    "the sparse solution.\n",
    "Ridge is not robust to outliers as square terms blow up the error differences of the outliers, and the\n",
    "regularization term tries to fix it by penalizing the weights\n",
    "Ridge regression performs better when all the input features influence the output, and all with weights\n",
    "are of roughly equal size.\n",
    "L2 regularization can learn complex data patterns.\n",
    "\n",
    "#### Simple example, how Ridge Regression works you may show from this amazing [video](https://www.youtube.com/watch?v=Q81RR3yKn30)\n",
    "\n",
    "\n",
    "### The main idea of these regularization is to avoid overfitting, they are pretty similar, and works similar, their formulas are similar, but they have big difference. Let's undestand it from example, \n",
    "\n",
    "first lets look at formulas and try to find difference\n",
    "\n",
    "## Ridge\n",
    "\n",
    "![](../pics/7.png)\n",
    "\n",
    "## Lasso\n",
    "\n",
    "![](../pics/8.png)\n",
    "\n",
    "Yes, you are right, Ridge takes squared slope and lasso takes absolute value of slope.\n",
    "We know that ridge just decreases/shrinks the importance of variables, and also we know that lasso just deletes useless junky variables\n",
    "\n",
    "### Example that shows you difference between lasso and ridge\n",
    "\n",
    "You must to find the weight of mice, there you have information about their size, age, your cars color, your friends count of follower in instagram. Here we understand, that we have usefull and silly variables.\n",
    "\n",
    "Lasso will delete all silly variables, but Ridge will just decrease importance for them..\n",
    "\n",
    "Now, if you understand, that in your data:\n",
    "- high probability of overfitting, you may use regularization\n",
    "- if you have small amount of data, and you know, that testing data, or data in real world testing will not exactly similar to your training data you may include regularization to your model\n",
    "- if you working with big amount of silly, junky variables (columns), you may use Lasso\n",
    "- if you working with big amount of usefull variables (something like HousePrice dataset), you may use Ridge"
   ]
  },
  {
   "cell_type": "markdown",
   "metadata": {},
   "source": [
    "### Lasso and Ridge Regressions in Python\n"
   ]
  },
  {
   "cell_type": "markdown",
   "metadata": {},
   "source": [
    "First, lets write just linear regression"
   ]
  },
  {
   "cell_type": "code",
   "execution_count": 31,
   "metadata": {},
   "outputs": [
    {
     "data": {
      "image/png": "[encoded data removed]",
      "text/plain": [
       "<Figure size 1152x576 with 1 Axes>"
      ]
     },
     "metadata": {
      "needs_background": "light"
     },
     "output_type": "display_data"
    }
   ],
   "source": [
    "import pandas as pd\n",
    "import numpy as np\n",
    "import matplotlib.pyplot as plt\n",
    "from sklearn.linear_model import LinearRegression\n",
    "from sklearn.metrics import r2_score\n",
    "import statsmodels.api as sm\n",
    "df = pd.read_csv('../data/Advertising.csv')\n",
    "df.drop(['Unnamed: 0'], axis=1,inplace=True)\n",
    "df.head()\n",
    "plt.figure(figsize=(16, 8))\n",
    "plt.scatter(\n",
    "    df['TV'],\n",
    "    df['sales'],\n",
    "    c='black'\n",
    ")\n",
    "plt.xlabel(\"Money spent on TV ads ($)\")\n",
    "plt.ylabel(\"Sales ($)\")\n",
    "plt.show()"
   ]
  },
  {
   "cell_type": "code",
   "execution_count": 32,
   "metadata": {},
   "outputs": [
    {
     "name": "stdout",
     "output_type": "stream",
     "text": [
      "The linear model is: Y = 7.0326 + 0.047537X\n"
     ]
    }
   ],
   "source": [
    "X = df['TV'].values.reshape(-1,1)\n",
    "y = df['sales'].values.reshape(-1,1)\n",
    "reg = LinearRegression()\n",
    "reg.fit(X, y)\n",
    "print(\"The linear model is: Y = {:.5} + {:.5}X\".format(reg.intercept_[0], reg.coef_[0][0]))"
   ]
  },
  {
   "cell_type": "code",
   "execution_count": 33,
   "metadata": {},
   "outputs": [
    {
     "data": {
      "image/png": "[encoded data removed]",
      "text/plain": [
       "<Figure size 1152x576 with 1 Axes>"
      ]
     },
     "metadata": {
      "needs_background": "light"
     },
     "output_type": "display_data"
    }
   ],
   "source": [
    "predictions = reg.predict(X)\n",
    "plt.figure(figsize=(16, 8))\n",
    "plt.scatter(\n",
    "    df['TV'],\n",
    "    df['sales'],\n",
    "    c='black'\n",
    ")\n",
    "plt.plot(\n",
    "    df['TV'],\n",
    "    predictions,\n",
    "    c='blue',\n",
    "    linewidth=2\n",
    ")\n",
    "plt.xlabel(\"Money spent on TV ads ($)\")\n",
    "plt.ylabel(\"Sales ($)\")\n",
    "plt.show()"
   ]
  },
  {
   "cell_type": "markdown",
   "metadata": {},
   "source": [
    "From the graph above, it seems that a simple linear regression can explain the general impact of amount spent on TV ads and sales"
   ]
  },
  {
   "cell_type": "code",
   "execution_count": 34,
   "metadata": {},
   "outputs": [
    {
     "name": "stdout",
     "output_type": "stream",
     "text": [
      "                            OLS Regression Results                            \n",
      "==============================================================================\n",
      "Dep. Variable:                  sales   R-squared:                       0.612\n",
      "Model:                            OLS   Adj. R-squared:                  0.610\n",
      "Method:                 Least Squares   F-statistic:                     312.1\n",
      "Date:                Fri, 03 Jan 2020   Prob (F-statistic):           1.47e-42\n",
      "Time:                        19:02:54   Log-Likelihood:                -519.05\n",
      "No. Observations:                 200   AIC:                             1042.\n",
      "Df Residuals:                     198   BIC:                             1049.\n",
      "Df Model:                           1                                         \n",
      "Covariance Type:            nonrobust                                         \n",
      "==============================================================================\n",
      "                 coef    std err          t      P>|t|      [0.025      0.975]\n",
      "------------------------------------------------------------------------------\n",
      "const          7.0326      0.458     15.360      0.000       6.130       7.935\n",
      "TV             0.0475      0.003     17.668      0.000       0.042       0.053\n",
      "==============================================================================\n",
      "Omnibus:                        0.531   Durbin-Watson:                   1.935\n",
      "Prob(Omnibus):                  0.767   Jarque-Bera (JB):                0.669\n",
      "Skew:                          -0.089   Prob(JB):                        0.716\n",
      "Kurtosis:                       2.779   Cond. No.                         338.\n",
      "==============================================================================\n",
      "\n",
      "Warnings:\n",
      "[1] Standard Errors assume that the covariance matrix of the errors is correctly specified.\n"
     ]
    },
    {
     "name": "stderr",
     "output_type": "stream",
     "text": [
      "/home/predator/anaconda3/lib/python3.7/site-packages/numpy/core/fromnumeric.py:2389: FutureWarning: Method .ptp is deprecated and will be removed in a future version. Use numpy.ptp instead.\n",
      "  return ptp(axis=axis, out=out, **kwargs)\n"
     ]
    }
   ],
   "source": [
    "X = df['TV']\n",
    "y = df['sales']\n",
    "X2 = sm.add_constant(X)\n",
    "est = sm.OLS(y, X2)\n",
    "est2 = est.fit()\n",
    "print(est2.summary())"
   ]
  },
  {
   "cell_type": "markdown",
   "metadata": {},
   "source": [
    "#### Let’s see if a multiple linear regression will perform better."
   ]
  },
  {
   "cell_type": "code",
   "execution_count": 35,
   "metadata": {},
   "outputs": [
    {
     "name": "stdout",
     "output_type": "stream",
     "text": [
      "The linear model is: Y = 2.9389 + 0.045765*TV + 0.18853*radio + -0.0010375*newspaper\n"
     ]
    }
   ],
   "source": [
    "Xs = df.drop(['sales'], axis=1)\n",
    "y = df['sales'].values.reshape(-1,1)\n",
    "reg = LinearRegression()\n",
    "reg.fit(Xs, y)\n",
    "print(\"The linear model is: Y = {:.5} + {:.5}*TV + {:.5}*radio + {:.5}*newspaper\".format(reg.intercept_[0], reg.coef_[0][0], reg.coef_[0][1], reg.coef_[0][2]))"
   ]
  },
  {
   "cell_type": "code",
   "execution_count": 36,
   "metadata": {},
   "outputs": [
    {
     "name": "stdout",
     "output_type": "stream",
     "text": [
      "                            OLS Regression Results                            \n",
      "==============================================================================\n",
      "Dep. Variable:                  sales   R-squared:                       0.897\n",
      "Model:                            OLS   Adj. R-squared:                  0.896\n",
      "Method:                 Least Squares   F-statistic:                     570.3\n",
      "Date:                Fri, 03 Jan 2020   Prob (F-statistic):           1.58e-96\n",
      "Time:                        19:02:54   Log-Likelihood:                -386.18\n",
      "No. Observations:                 200   AIC:                             780.4\n",
      "Df Residuals:                     196   BIC:                             793.6\n",
      "Df Model:                           3                                         \n",
      "Covariance Type:            nonrobust                                         \n",
      "==============================================================================\n",
      "                 coef    std err          t      P>|t|      [0.025      0.975]\n",
      "------------------------------------------------------------------------------\n",
      "const          2.9389      0.312      9.422      0.000       2.324       3.554\n",
      "x1             0.0458      0.001     32.809      0.000       0.043       0.049\n",
      "x2             0.1885      0.009     21.893      0.000       0.172       0.206\n",
      "x3            -0.0010      0.006     -0.177      0.860      -0.013       0.011\n",
      "==============================================================================\n",
      "Omnibus:                       60.414   Durbin-Watson:                   2.084\n",
      "Prob(Omnibus):                  0.000   Jarque-Bera (JB):              151.241\n",
      "Skew:                          -1.327   Prob(JB):                     1.44e-33\n",
      "Kurtosis:                       6.332   Cond. No.                         454.\n",
      "==============================================================================\n",
      "\n",
      "Warnings:\n",
      "[1] Standard Errors assume that the covariance matrix of the errors is correctly specified.\n"
     ]
    }
   ],
   "source": [
    "X = np.column_stack((df['TV'], df['radio'], df['newspaper']))\n",
    "y = df['sales']\n",
    "X2 = sm.add_constant(X)\n",
    "est = sm.OLS(y, X2)\n",
    "est2 = est.fit()\n",
    "print(est2.summary())"
   ]
  },
  {
   "cell_type": "markdown",
   "metadata": {},
   "source": [
    "`Lets spend few minutes to recap information about F-statistics. Here, the F-statistic is calculated for the overall model, whereas the p-value is specific to each predictor. If there is a strong relationship, then F will be much larger than 1. Otherwise, it will be approximately equal to 1.\n",
    "\n",
    "How larger than 1 is large enough?\n",
    "\n",
    "This is hard to answer. Usually, if there is a large number of data points, F could be slightly larger than 1 and suggest a strong relationship. For small data sets, then the F value must be way larger than 1 to suggest a strong relationship.\n",
    "\n",
    "Why can’t we use the p-value in this case?\n",
    "\n",
    "Since we are fitting many predictors, we need to consider a case where there are a lot of features (p is large). With a very large amount of predictors, there will always be about 5% of them that will have, by chance, a very small p-value even though they are not statistically significant. Therefore, we use the F-statistic to avoid considering unimportant predictors as significant predictors.`"
   ]
  },
  {
   "cell_type": "code",
   "execution_count": 37,
   "metadata": {},
   "outputs": [
    {
     "data": {
      "text/plain": [
       "<seaborn.axisgrid.PairGrid at 0x7f51a69d5668>"
      ]
     },
     "execution_count": 37,
     "metadata": {},
     "output_type": "execute_result"
    },
    {
     "data": {
      "image/png": "[encoded data removed]",
      "text/plain": [
       "<Figure size 720x720 with 20 Axes>"
      ]
     },
     "metadata": {
      "needs_background": "light"
     },
     "output_type": "display_data"
    }
   ],
   "source": [
    "import seaborn as sns\n",
    "sns.pairplot(df)"
   ]
  },
  {
   "cell_type": "markdown",
   "metadata": {},
   "source": [
    "###  lets start"
   ]
  },
  {
   "cell_type": "code",
   "execution_count": 38,
   "metadata": {},
   "outputs": [
    {
     "name": "stdout",
     "output_type": "stream",
     "text": [
      "-3.07294659710021\n"
     ]
    }
   ],
   "source": [
    "from sklearn.model_selection import cross_val_score\n",
    "from sklearn.linear_model import LinearRegression\n",
    "\n",
    "Xs = df.drop(['sales'],axis=1)\n",
    "y = df['sales'].values.reshape(-1,1)\n",
    "lin_reg = LinearRegression()\n",
    "MSEs = cross_val_score(lin_reg,Xs,y,scoring='neg_mean_squared_error',cv=5)\n",
    "mean_MSE = np.mean(MSEs)\n",
    "print(mean_MSE)"
   ]
  },
  {
   "cell_type": "code",
   "execution_count": 39,
   "metadata": {},
   "outputs": [
    {
     "data": {
      "text/plain": [
       "array([-3.1365399 , -2.42566776, -1.58522508, -5.42615506, -2.79114519])"
      ]
     },
     "execution_count": 39,
     "metadata": {},
     "output_type": "execute_result"
    }
   ],
   "source": [
    "MSEs\n"
   ]
  },
  {
   "cell_type": "markdown",
   "metadata": {},
   "source": [
    "### Ridge regression"
   ]
  },
  {
   "cell_type": "code",
   "execution_count": 40,
   "metadata": {},
   "outputs": [
    {
     "name": "stdout",
     "output_type": "stream",
     "text": [
      "{'alpha': 20} -3.0726713383411433\n"
     ]
    }
   ],
   "source": [
    "from sklearn.model_selection import GridSearchCV\n",
    "from sklearn.linear_model import Ridge,Lasso\n",
    "ridge = Ridge()\n",
    "parameters = {'alpha':[1e-15,1e-10,1e-8,1e-4,1e-3,1e-2,1,2,5,20]}\n",
    "ridge_regressor = GridSearchCV(ridge,parameters,scoring='neg_mean_squared_error',cv=5)\n",
    "ridge_regressor.fit(Xs,y)\n",
    "print(ridge_regressor.best_params_,ridge_regressor.best_score_)"
   ]
  },
  {
   "cell_type": "markdown",
   "metadata": {},
   "source": [
    "### Lasso regression"
   ]
  },
  {
   "cell_type": "code",
   "execution_count": 41,
   "metadata": {},
   "outputs": [
    {
     "name": "stderr",
     "output_type": "stream",
     "text": [
      "/home/predator/anaconda3/lib/python3.7/site-packages/sklearn/linear_model/coordinate_descent.py:492: ConvergenceWarning: Objective did not converge. You might want to increase the number of iterations. Fitting data with very small alpha may cause precision problems.\n",
      "  ConvergenceWarning)\n",
      "/home/predator/anaconda3/lib/python3.7/site-packages/sklearn/linear_model/coordinate_descent.py:492: ConvergenceWarning: Objective did not converge. You might want to increase the number of iterations. Fitting data with very small alpha may cause precision problems.\n",
      "  ConvergenceWarning)\n",
      "/home/predator/anaconda3/lib/python3.7/site-packages/sklearn/linear_model/coordinate_descent.py:492: ConvergenceWarning: Objective did not converge. You might want to increase the number of iterations. Fitting data with very small alpha may cause precision problems.\n",
      "  ConvergenceWarning)\n"
     ]
    },
    {
     "name": "stdout",
     "output_type": "stream",
     "text": [
      "{'alpha': 2} -3.0300246975762115\n"
     ]
    }
   ],
   "source": [
    "lasso = Lasso()\n",
    "parameters = {'alpha':[1e-15,1e-10,1e-8,1e-4,1e-3,1e-2,1,2,5,20]}\n",
    "lasso_regressor = GridSearchCV(lasso,parameters,scoring='neg_mean_squared_error',cv=5)\n",
    "lasso_regressor.fit(Xs,y)\n",
    "print(lasso_regressor.best_params_,lasso_regressor.best_score_)"
   ]
  },
  {
   "cell_type": "markdown",
   "metadata": {},
   "source": [
    "Now we understand how linear regression works, how we can use regularizations, lets to more interesting ml exercise, lets fit house price with three methods and get best model with best parameters."
   ]
  },
  {
   "cell_type": "code",
   "execution_count": 42,
   "metadata": {},
   "outputs": [],
   "source": [
    "from sklearn.datasets import load_boston\n",
    "from sklearn.model_selection import RandomizedSearchCV\n",
    "from sklearn.model_selection import train_test_split\n",
    "boston = load_boston()"
   ]
  },
  {
   "cell_type": "code",
   "execution_count": 43,
   "metadata": {},
   "outputs": [
    {
     "data": {
      "text/plain": [
       "0.6391687564712922"
      ]
     },
     "execution_count": 43,
     "metadata": {},
     "output_type": "execute_result"
    }
   ],
   "source": [
    "X = pd.DataFrame(boston.data,columns=boston.feature_names)\n",
    "Y = boston.target\n",
    "X_train,X_test,y_train,y_test = train_test_split(X,Y,test_size=0.3)\n",
    "# Multiple linear regression\n",
    "linear_model = LinearRegression()\n",
    "linear_model.fit(X_train,y_train)\n",
    "m = cross_val_score(linear_model,X_test,y_test,cv=5)\n",
    "m.mean()"
   ]
  },
  {
   "cell_type": "code",
   "execution_count": 44,
   "metadata": {},
   "outputs": [
    {
     "name": "stdout",
     "output_type": "stream",
     "text": [
      "Fitting 5 folds for each of 50 candidates, totalling 250 fits\n"
     ]
    },
    {
     "name": "stderr",
     "output_type": "stream",
     "text": [
      "[Parallel(n_jobs=-1)]: Using backend LokyBackend with 8 concurrent workers.\n",
      "[Parallel(n_jobs=-1)]: Done  25 tasks      | elapsed:    2.1s\n"
     ]
    },
    {
     "name": "stdout",
     "output_type": "stream",
     "text": [
      "{'solver': 'cholesky', 'alpha': 1.0} 0.7031923410613057\n"
     ]
    },
    {
     "name": "stderr",
     "output_type": "stream",
     "text": [
      "[Parallel(n_jobs=-1)]: Done 250 out of 250 | elapsed:    3.4s finished\n",
      "/home/predator/anaconda3/lib/python3.7/site-packages/sklearn/model_selection/_search.py:841: DeprecationWarning: The default of the `iid` parameter will change from True to False in version 0.22 and will be removed in 0.24. This will change numeric results when test-set sizes are unequal.\n",
      "  DeprecationWarning)\n"
     ]
    }
   ],
   "source": [
    "params_ridge ={\n",
    "        'alpha':[i/2 for i in range(1,50)],\n",
    "        'solver':['auto', 'svd', 'cholesky', 'lsqr', 'sparse_cg', 'sag', 'saga']\n",
    "        }\n",
    "ridge = Ridge()\n",
    "ridge_random = RandomizedSearchCV(estimator = ridge, param_distributions = params_ridge,\n",
    "                               n_iter=50, cv=5, n_jobs=-1,random_state=42, verbose=2)\n",
    "ridge_random.fit(X_train, y_train)\n",
    "\n",
    "print(ridge_random.best_params_,ridge_random.best_score_)\n"
   ]
  },
  {
   "cell_type": "code",
   "execution_count": 45,
   "metadata": {},
   "outputs": [
    {
     "name": "stderr",
     "output_type": "stream",
     "text": [
      "[Parallel(n_jobs=-1)]: Using backend LokyBackend with 8 concurrent workers.\n"
     ]
    },
    {
     "name": "stdout",
     "output_type": "stream",
     "text": [
      "Fitting 5 folds for each of 343 candidates, totalling 1715 fits\n"
     ]
    },
    {
     "name": "stderr",
     "output_type": "stream",
     "text": [
      "[Parallel(n_jobs=-1)]: Done 748 tasks      | elapsed:    3.5s\n"
     ]
    },
    {
     "name": "stdout",
     "output_type": "stream",
     "text": [
      "{'alpha': 0.5, 'solver': 'auto'} 0.7050010319917787\n"
     ]
    },
    {
     "name": "stderr",
     "output_type": "stream",
     "text": [
      "[Parallel(n_jobs=-1)]: Done 1715 out of 1715 | elapsed:    7.1s finished\n",
      "/home/predator/anaconda3/lib/python3.7/site-packages/sklearn/model_selection/_search.py:841: DeprecationWarning: The default of the `iid` parameter will change from True to False in version 0.22 and will be removed in 0.24. This will change numeric results when test-set sizes are unequal.\n",
      "  DeprecationWarning)\n"
     ]
    }
   ],
   "source": [
    "ridge_grid = GridSearchCV(estimator = ridge,\n",
    "                          param_grid = params_ridge,\n",
    "                          cv = 5,\n",
    "                          n_jobs = -1,\n",
    "                          verbose = 2)\n",
    "ridge_grid.fit(X_train, y_train)\n",
    "print(ridge_grid.best_params_,ridge_grid.best_score_)"
   ]
  },
  {
   "cell_type": "code",
   "execution_count": null,
   "metadata": {},
   "outputs": [],
   "source": []
  },
  {
   "cell_type": "code",
   "execution_count": 46,
   "metadata": {},
   "outputs": [
    {
     "name": "stderr",
     "output_type": "stream",
     "text": [
      "/home/predator/anaconda3/lib/python3.7/site-packages/sklearn/model_selection/_search.py:271: UserWarning: The total space of parameters 9 is smaller than n_iter=50. Running 9 iterations. For exhaustive searches, use GridSearchCV.\n",
      "  % (grid_size, self.n_iter, grid_size), UserWarning)\n",
      "[Parallel(n_jobs=-1)]: Using backend LokyBackend with 8 concurrent workers.\n",
      "[Parallel(n_jobs=-1)]: Done   7 out of  45 | elapsed:    0.1s remaining:    0.5s\n"
     ]
    },
    {
     "name": "stdout",
     "output_type": "stream",
     "text": [
      "Fitting 5 folds for each of 9 candidates, totalling 45 fits\n",
      "{'alpha': 0.1} 0.6966887968120337\n"
     ]
    },
    {
     "name": "stderr",
     "output_type": "stream",
     "text": [
      "[Parallel(n_jobs=-1)]: Done  45 out of  45 | elapsed:    0.2s finished\n",
      "/home/predator/anaconda3/lib/python3.7/site-packages/sklearn/model_selection/_search.py:841: DeprecationWarning: The default of the `iid` parameter will change from True to False in version 0.22 and will be removed in 0.24. This will change numeric results when test-set sizes are unequal.\n",
      "  DeprecationWarning)\n"
     ]
    }
   ],
   "source": [
    "params_lasso ={\n",
    "        'alpha':[i/10 for i in range(1,10)]\n",
    "        }\n",
    "lasso = Lasso()\n",
    "lasso_random = RandomizedSearchCV(estimator = lasso, param_distributions = params_lasso,\n",
    "                               n_iter=50, cv=5, n_jobs=-1,random_state=42, verbose=2)\n",
    "lasso_random.fit(X_train, y_train)\n",
    "\n",
    "print(lasso_random.best_params_,lasso_random.best_score_)"
   ]
  },
  {
   "cell_type": "code",
   "execution_count": 47,
   "metadata": {},
   "outputs": [],
   "source": [
    "model_ridge = ridge_random.best_estimator_\n",
    "y_pred_ridge = (model_ridge.predict(X_test))\n",
    "output_ridge = pd.DataFrame({'Sale_Price_fact':y_test ,'SalePrice_pred': y_pred_ridge})"
   ]
  },
  {
   "cell_type": "code",
   "execution_count": 48,
   "metadata": {},
   "outputs": [
    {
     "data": {
      "text/plain": [
       "<seaborn.axisgrid.PairGrid at 0x7f51a497c438>"
      ]
     },
     "execution_count": 48,
     "metadata": {},
     "output_type": "execute_result"
    },
    {
     "data": {
      "image/png": "[encoded data removed]",
      "text/plain": [
       "<Figure size 360x360 with 6 Axes>"
      ]
     },
     "metadata": {
      "needs_background": "light"
     },
     "output_type": "display_data"
    }
   ],
   "source": [
    "sns.pairplot(output_ridge)"
   ]
  },
  {
   "cell_type": "markdown",
   "metadata": {},
   "source": [
    "<a id='2'></a>"
   ]
  },
  {
   "cell_type": "markdown",
   "metadata": {},
   "source": [
    "## Logistic Regression\n",
    "\n",
    "**Logistic regression** is a machine learning classification algorithm that is used to predict the probability of categorical dependent variable. In logistic regression the dependent variable is a binary variable that contains data coded as 1 or 0. In other words the logistic regression predicts P(Y=1) as a function of X.\n",
    "\n",
    "### Logistic regression assumptions\n",
    "* Requires dependent variable to be binary\n",
    "* Dependent variable as 1 should represent the desired output\n",
    "* Only meaningful variables should be included in the model\n",
    "* No multicolinearity\n",
    "* The independent variables are linearly related to the log odds.\n",
    "* Logistic regression requires quite large sample sizes"
   ]
  },
  {
   "cell_type": "code",
   "execution_count": 49,
   "metadata": {},
   "outputs": [],
   "source": [
    "import pandas as pd\n",
    "import numpy as np\n",
    "import seaborn as sns\n",
    "from sklearn.datasets import load_boston\n",
    "from sklearn import preprocessing\n",
    "import matplotlib.pyplot as plt \n",
    "from sklearn.linear_model import LogisticRegression\n",
    "from sklearn.model_selection import train_test_split\n",
    "bs = load_boston()\n",
    "X = pd.DataFrame(bs.data,columns=bs.feature_names)\n",
    "Y = boston.target\n",
    "Y = Y>Y.mean()\n",
    "Y = list(map(int,Y))\n",
    "\n",
    "X_train, X_test, y_train, y_test = train_test_split(X, Y, test_size=0.3, random_state=0)\n",
    "columns = X_train.columns"
   ]
  },
  {
   "cell_type": "markdown",
   "metadata": {},
   "source": [
    "## implementing the model"
   ]
  },
  {
   "cell_type": "code",
   "execution_count": 50,
   "metadata": {},
   "outputs": [
    {
     "name": "stdout",
     "output_type": "stream",
     "text": [
      "Optimization terminated successfully.\n",
      "         Current function value: 0.269643\n",
      "         Iterations 10\n",
      "                         Results: Logit\n",
      "=================================================================\n",
      "Model:              Logit            Pseudo R-squared: 0.602     \n",
      "Dependent Variable: y                AIC:              216.9071  \n",
      "Date:               2020-01-03 19:03 BIC:              267.2080  \n",
      "No. Observations:   354              Log-Likelihood:   -95.454   \n",
      "Df Model:           12               LL-Null:          -239.92   \n",
      "Df Residuals:       341              LLR p-value:      9.8920e-55\n",
      "Converged:          1.0000           Scale:            1.0000    \n",
      "No. Iterations:     10.0000                                      \n",
      "-------------------------------------------------------------------\n",
      "           Coef.    Std.Err.      z      P>|z|     [0.025    0.975]\n",
      "-------------------------------------------------------------------\n",
      "CRIM      -0.1843     0.1534   -1.2012   0.2297   -0.4850    0.1164\n",
      "ZN         0.0042     0.0132    0.3186   0.7500   -0.0216    0.0300\n",
      "INDUS     -0.0327     0.0548   -0.5971   0.5504   -0.1400    0.0746\n",
      "CHAS       0.1755     0.8270    0.2122   0.8319   -1.4453    1.7963\n",
      "NOX        2.5381     3.1792    0.7984   0.4247   -3.6929    8.7691\n",
      "RM         1.8407     0.3896    4.7248   0.0000    1.0771    2.6043\n",
      "AGE       -0.0219     0.0120   -1.8240   0.0682   -0.0454    0.0016\n",
      "DIS       -0.3715     0.1679   -2.2125   0.0269   -0.7007   -0.0424\n",
      "RAD        0.1569     0.0719    2.1829   0.0290    0.0160    0.2977\n",
      "TAX       -0.0051     0.0036   -1.4185   0.1561   -0.0121    0.0019\n",
      "PTRATIO   -0.4007     0.1182   -3.3910   0.0007   -0.6322   -0.1691\n",
      "B          0.0047     0.0053    0.8815   0.3781   -0.0057    0.0150\n",
      "LSTAT     -0.3388     0.0687   -4.9308   0.0000   -0.4734   -0.2041\n",
      "=================================================================\n",
      "\n"
     ]
    }
   ],
   "source": [
    "import statsmodels.api as sm\n",
    "logit_model=sm.Logit(y_train,X_train)\n",
    "result=logit_model.fit()\n",
    "print(result.summary2())"
   ]
  },
  {
   "cell_type": "code",
   "execution_count": 51,
   "metadata": {},
   "outputs": [
    {
     "name": "stderr",
     "output_type": "stream",
     "text": [
      "/home/predator/anaconda3/lib/python3.7/site-packages/sklearn/linear_model/logistic.py:433: FutureWarning: Default solver will be changed to 'lbfgs' in 0.22. Specify a solver to silence this warning.\n",
      "  FutureWarning)\n"
     ]
    },
    {
     "data": {
      "text/plain": [
       "LogisticRegression(C=1.0, class_weight=None, dual=False, fit_intercept=True,\n",
       "          intercept_scaling=1, max_iter=100, multi_class='warn',\n",
       "          n_jobs=None, penalty='l2', random_state=None, solver='warn',\n",
       "          tol=0.0001, verbose=0, warm_start=False)"
      ]
     },
     "execution_count": 51,
     "metadata": {},
     "output_type": "execute_result"
    }
   ],
   "source": [
    "from sklearn.linear_model import LogisticRegression\n",
    "from sklearn import metrics\n",
    "logreg = LogisticRegression()\n",
    "logreg.fit(X_train, y_train)"
   ]
  },
  {
   "cell_type": "code",
   "execution_count": 52,
   "metadata": {},
   "outputs": [
    {
     "name": "stdout",
     "output_type": "stream",
     "text": [
      "Accuracy of logistic regression classifier on test set: 0.86\n"
     ]
    }
   ],
   "source": [
    "y_pred = logreg.predict(X_test)\n",
    "print('Accuracy of logistic regression classifier on test set: {:.2f}'.format(logreg.score(X_test, y_test)))"
   ]
  },
  {
   "cell_type": "code",
   "execution_count": 53,
   "metadata": {},
   "outputs": [
    {
     "name": "stdout",
     "output_type": "stream",
     "text": [
      "[[85  4]\n",
      " [18 45]]\n"
     ]
    }
   ],
   "source": [
    "from sklearn.metrics import confusion_matrix\n",
    "confusion_matrix = confusion_matrix(y_test, y_pred)\n",
    "print(confusion_matrix)"
   ]
  },
  {
   "cell_type": "code",
   "execution_count": 54,
   "metadata": {},
   "outputs": [
    {
     "name": "stdout",
     "output_type": "stream",
     "text": [
      "              precision    recall  f1-score   support\n",
      "\n",
      "           0       0.83      0.96      0.89        89\n",
      "           1       0.92      0.71      0.80        63\n",
      "\n",
      "   micro avg       0.86      0.86      0.86       152\n",
      "   macro avg       0.87      0.83      0.84       152\n",
      "weighted avg       0.86      0.86      0.85       152\n",
      "\n"
     ]
    }
   ],
   "source": [
    "from sklearn.metrics import classification_report\n",
    "print(classification_report(y_test, y_pred))"
   ]
  },
  {
   "cell_type": "code",
   "execution_count": 55,
   "metadata": {},
   "outputs": [
    {
     "data": {
      "image/png": "[encoded data removed]",
      "text/plain": [
       "<Figure size 432x288 with 1 Axes>"
      ]
     },
     "metadata": {
      "needs_background": "light"
     },
     "output_type": "display_data"
    }
   ],
   "source": [
    "from sklearn.metrics import roc_auc_score\n",
    "from sklearn.metrics import roc_curve\n",
    "logit_roc_auc = roc_auc_score(y_test, logreg.predict(X_test))\n",
    "fpr, tpr, thresholds = roc_curve(y_test, logreg.predict_proba(X_test)[:,1])\n",
    "plt.figure()\n",
    "plt.plot(fpr, tpr, label='Logistic Regression (area = %0.2f)' % logit_roc_auc)\n",
    "plt.plot([0, 1], [0, 1],'r--')\n",
    "plt.xlim([0.0, 1.0])\n",
    "plt.ylim([0.0, 1.05])\n",
    "plt.xlabel('False Positive Rate')\n",
    "plt.ylabel('True Positive Rate')\n",
    "plt.title('Receiver operating characteristic')\n",
    "plt.legend(loc=\"lower right\")\n",
    "plt.savefig('Log_ROC')\n",
    "plt.show()"
   ]
  },
  {
   "cell_type": "markdown",
   "metadata": {},
   "source": [
    "Here we can configure some paramteres of our model, for example:\n",
    "#### solverstr, {‘newton-cg’, ‘lbfgs’, ‘liblinear’, ‘sag’, ‘saga’}, optional (default=’lbfgs’)\n",
    "\n",
    "Algorithm to use in the optimization problem.\n",
    "\n",
    "* For small datasets, ‘liblinear’ is a good choice, whereas ‘sag’ and ‘saga’ are faster for large ones.\n",
    "* For multiclass problems, only ‘newton-cg’, ‘sag’, ‘saga’ and ‘lbfgs’ handle multinomial loss; ‘liblinear’ is limited to one-versus-rest schemes.\n",
    "* ‘newton-cg’, ‘lbfgs’, ‘sag’ and ‘saga’ handle L2 or no penalty\n",
    "* ‘liblinear’ and ‘saga’ also handle L1 penalty\n",
    "* ‘saga’ also supports ‘elasticnet’ penalty\n",
    "* ‘liblinear’ does not support setting penalty='none'\n"
   ]
  },
  {
   "cell_type": "markdown",
   "metadata": {},
   "source": [
    "<a id='2.1'></a>"
   ]
  },
  {
   "cell_type": "markdown",
   "metadata": {},
   "source": [
    "### Difference between Logistic Regression and Linear Regression\n",
    "\n",
    "Linear and Logistic regression are the most basic form of regression which are commonly used. The\n",
    "essential difference between these two is that Logistic regression is used when the dependent variable\n",
    "is binary. In contrast, Linear regression is used when the dependent variable is continuous, and the\n",
    "nature of the regression line is linear.\n",
    "\n",
    "**Key Differences between Linear and Logistic Regression**\n",
    "\n",
    "Linear regression models data using continuous numeric value. As against, logistic regression models\n",
    "the data in the binary values. Linear regression requires to establish the linear relationship among dependent and independent variables, whereas it is not necessary for logistic regression. In linear regression, the independent variable can be correlated with each other. On the contrary, in the logistic regression, the variable must not be correlated with each other."
   ]
  },
  {
   "cell_type": "markdown",
   "metadata": {},
   "source": [
    "<a id='2.2'></a>"
   ]
  },
  {
   "cell_type": "markdown",
   "metadata": {},
   "source": [
    "### Why we can't do a classification problem using Regression?\n",
    "\n",
    "With linear regression you fit a polynomial through the data - say, like on the example below, we fit\n",
    "a straight line through {tumor size, tumor type} sample set:\n",
    "![](../pics/9.png)\n",
    "Above, malignant tumors get 1, and non-malignant ones get 0, and the green line is our hypothesis\n",
    "h(x). To make predictions, we may say that for any given tumor size x, if h(x) gets bigger than 0.5,\n",
    "we predict malignant tumors. Otherwise, we predict benignly.\n",
    "It looks like this way, we could correctly predict every single training set sample, but now let's change\n",
    "the task a bit.\n",
    "Intuitively it's clear that all tumors larger certain threshold are malignant. So let's add another sample\n",
    "with huge tumor size, and run linear regression again:\n",
    "![](../pics/10.png)\n",
    "Now our h(x)>0.5→malignant doesn't work anymore. To keep making correct predictions, we need\n",
    "to change it to h(x)>0.2 or something - but that not how the algorithm should work.\n",
    "We cannot change the hypothesis each time a new sample arrives. Instead, we should learn it off the\n",
    "training set data, and then (using the hypothesis we've learned) make correct predictions for the data\n",
    "we haven't seen before.\n",
    "Linear regression is unbounded."
   ]
  },
  {
   "cell_type": "markdown",
   "metadata": {},
   "source": [
    "<a id='3'></a>"
   ]
  },
  {
   "cell_type": "markdown",
   "metadata": {},
   "source": [
    "## Decision Tree 101\n",
    "\n",
    "A decison tree is a type of supervised learning algorithm that can be used in classification as well as regressor problems. The input to a decision tree can be both continuous as well as categorical. The decision tree works on an if-then statement. Decision tree tries to solve a problem by using tree representation (Node and Leaf)\n",
    "\n",
    "### Main asssumptions while creating a decision tree: \n",
    "\n",
    "1. Initially all the training set is considered as a root \n",
    "2. Feature values are preferred to be categorical, if continuous then they are discretized \n",
    "\n",
    "3. Records are distributed recursively on the basis of attribute values \n",
    "4. Which attributes are considered to be in root node or internal node is done by using a statistical approach.\n",
    "\n",
    "some jargons:\n",
    "- the very top of the tree is called the \"Root node\" or just the 'Root'\n",
    "- after \"root nodes\" goes just \"nodes\", internal nodes have arrow pointing to them and they have arrows pointing away from them\n",
    "- lastly, estimates are lies in 'Leaf nodes' or just 'Leaves'.\n",
    "\n",
    "Now we are ready to talk about how to go from raw table data for a decision tree, intuitvely, the first think we should do, it to know which of the dependent variables will be at the top of our tree aka root node. We just check every variable and see to the variation of the result, lastly we will take the variable that separates data mostly good.\n",
    "\n",
    "to determine which separation is best, we need a way to measure and compary **\"impurity\"**. The are a bunch of ways to measure impurity, but I'm just going to focus on a very popular one called **\"Gini\"**. \n",
    "\n",
    "#### Good news, Gini impurity formula is pretty easy to understand and memorise!\n",
    " `Gini impurity = 1 - (probality of \"yes\")^2 - (probability of \"no\")^2`,\n",
    " So, we will use the least weighted average of Gini impurity in nodes.\n",
    " \n",
    " steps to do decision tree\n",
    " - calculate all of the gini impurity scores\n",
    " - if node itself shows lowest score, than there is no point in separating anymoe, and it becoame leaf node.\n",
    " - if separating the data results in an improvement, than pick the separation with the lowest impurity value\n",
    " \n",
    " So far with formula above we understood how to use it for create Decision tree with binary dependent variables, but what if we have numeric data to predict binary target?\n",
    " \n",
    "- First - sort data from lowest to highest\n",
    "- Second - calculate the average values for all adjacent variables\n",
    "- Three - calculate the impurity values for each average weight\n",
    "\n",
    "these three steps allow us to find best separation to get lowest Gini impurity value.\n",
    "\n",
    "Now we've talked about how to build a tree with 'binary dependent variables' and 'numeric dependent variables' let's get a look how we should work with **ranked data** and **multiple choise data**.\n",
    "\n",
    "* Ranked data is similar to numeric data, except instead now we calculate impurity scores for all of the possible ranks. So if people could rank from 1 to 4, we could calculate the following impurity scores. and then select the best impurity\n",
    "\n",
    "* When there are **multiple choises**, like **color choice can be blue, green or red**, you can calculate an impurity score for each one as well as each possible combination. For this example with three colors we get all possible combinations,except the situations that includes everyone. "
   ]
  },
  {
   "cell_type": "markdown",
   "metadata": {},
   "source": [
    "<a id='3.1'></a>"
   ]
  },
  {
   "cell_type": "markdown",
   "metadata": {},
   "source": [
    "### Entropy, Information Gain, Gini Index, Reducing impurity\n",
    "\n",
    "We talked before about one of the solutions about optimal split. There are different attributes which define the split of nodes in a decision tree. There are few algorithms to find the optimal split.\n",
    "\n",
    "* **ID3(Iterative Dichotomiser 3)**: This solution uses Entropy and Information gain as metrics to form a better decision tree. The attribute with the highest information gain is used as a root node, and a similar approach is followed after that. Entropy is the measure that characterizes the impurity of an arbitrary collection of examples.\n",
    "    - this algorithm can work only with discrete target, and can't handle with missing data\n",
    "![](../pics/11.png)\n",
    "\n",
    "Entropy varies from 0 to 1. 0 if all the data belong to a single class and 1 if the class distribution is\n",
    "equal. In this way, entropy will give a measure of impurity in the dataset.\n",
    "\n",
    "`Information Gain = 1 - ∑ (Sb/S)*Entropy (Sb)`,where Sb - Subset, S - entire data\n",
    "\n",
    "* **C4.5** it is just improved ID3, that can handle with missing data\n",
    "* **CART Algorithm (Classification and Regression trees)** : is the most popolar algorithm, because can work with numerical and categorical data. In CART, we use the GINI index as a metric. We talked about this algorith before."
   ]
  },
  {
   "cell_type": "markdown",
   "metadata": {},
   "source": [
    "<a id='3.2'></a>"
   ]
  },
  {
   "cell_type": "markdown",
   "metadata": {},
   "source": [
    "### How to control leaf height and pruning?\n",
    "To control the leaf size, we can set the parameters:-\n",
    "1. **Maximum depth:** \n",
    "Maximum tree depth is a limit to stop the further splitting of nodes when the specified tree depth has\n",
    "been reached during the building of the initial decision tree.\n",
    "NEVER use maximum depth to limit the further splitting of nodes. In other words: use the\n",
    "largest possible value.\n",
    "2. **Minimum split size:**\n",
    "Minimum split size is a limit to stop the further splitting of nodes when the number of observations\n",
    "in the node is lower than the minimum split size.\n",
    "This is a good way to limit the growth of the tree. When a leaf contains too few observations, further\n",
    "splitting will result in overfitting (modeling of noise in the data).\n",
    "3. **Minimum leaf size:**\n",
    "Minimum leaf size is a limit to split a node when the number of observations in one of the child nodes\n",
    "is lower than the minimum leaf size.\n",
    "Pruning is mostly done to reduce the chances of overfitting the tree to the training data and reduce\n",
    "the overall complexity of the tree.\n",
    "\n",
    "\n",
    "There are two types of pruning: Pre-pruning and Post-pruning.\n",
    "1. Pre-pruning is also known as the **early stopping criteria**. As the name suggests, the criteria are set as parameter values while building the model. The tree stops growing when it meets any of these pre-pruning criteria, or it discovers the pure classes. Early stopping can hurt your accuracy, usually we use pre-prunning for faster compilation \n",
    "2. In Post-pruning, the idea is to allow the decision tree to grow fully and observe the CP value.Next, we prune/cut the tree with the optimal CP(Complexity Parameter) value as the parameter. The CP (complexity parameter) is used to control tree growth. If the cost of adding a variable is higher, then the value of CP, tree growth stops.\n",
    "\n",
    "Algorithm advantages\n",
    "\n",
    "Having considered the main problems that arise when building trees, it would be unfair not to mention their advantages:\n",
    "\n",
    "    - fast learning process;\n",
    "    - generating rules in areas where it is difficult for an expert to formalize his knowledge;\n",
    "    - extraction of rules in a natural language;\n",
    "    - intuitive classification model;\n",
    "    - high accuracy of prediction, comparable with other methods of data analysis (statistics, neural networks);\n",
    "    - construction of nonparametric models.\n",
    "\n",
    "For these and many other reasons, decision trees are an important tool in the work of every data analysis professional"
   ]
  },
  {
   "cell_type": "markdown",
   "metadata": {},
   "source": [
    "<a id='4'></a>"
   ]
  },
  {
   "cell_type": "markdown",
   "metadata": {},
   "source": [
    "## Random Forest 101 \n",
    "\n",
    "Random forests are made out of decision trees, just built a tree with a following steps:\n",
    "1. Using a bootstrapped dataset.\n",
    "2. Only considering a random a subset of varaibles at each step.\n",
    "3. And just do it hundred of times..\n",
    "\n",
    "### The variety is what makes random forests more effective than individual decision trees.\n",
    "\n",
    "bootstraping the data is just taking random rows from data, and selected rows **can be repeated**. Bootstrapping the data plus using the aggregate to make a decision is called **bagging** \n",
    "\n",
    "typically about 1/3 of the original data does not go in the bootstrapped dataset, thus we can use them to test.. and this data called the **Out-of-Bag Dataset**.\n",
    "\n",
    "Random Forest is an ensemble machine learning algorithm that follows the bagging technique.The base estimators in the random forest are decision trees. Random forest randomly selects a set of features that are used to decide the best split at each node of the decision tree.\n",
    "\n",
    "Looking at it step-by-step, this is what a random forest model does:\n",
    "\n",
    "1. Random subsets are created from the original dataset (bootstrapping).\n",
    "2. At each node in the decision tree, only a random set of features are considered to decide the best split.\n",
    "3. A decision tree model is fitted on each of the subsets.\n",
    "4. The final prediction is calculated by averaging the predictions from all decision trees.\n",
    "\n",
    "To sum up, the Random forest randomly selects data points and features and builds multiple trees (Forest).\n",
    "Random Forest is used for feature importance selection. The attribute (.feature_importances_) is used to find feature importance.\n",
    "\n",
    "Some Important Parameters:-\n",
    "1. n_estimators:- It defines the number of decision trees to be created in a random forest.\n",
    "2. criterion:- \"Gini\" or \"Entropy.\"\n",
    "3. min_samples_split:- Used to define the minimum number of samples required in a leaf node before a split is attempted\n",
    "4. max_features: -It defines the maximum number of features allowed for the split in each decision tree.\n",
    "5. n_jobs:- The number of jobs to run in parallel for both fit and predict. Always keep (-1) to use all the cores for parallel processing ."
   ]
  },
  {
   "cell_type": "markdown",
   "metadata": {},
   "source": [
    "<a id='5'></a>"
   ]
  },
  {
   "cell_type": "markdown",
   "metadata": {},
   "source": [
    "## What is the Variance and Bias tradeoff "
   ]
  },
  {
   "cell_type": "markdown",
   "metadata": {},
   "source": [
    "In predicting models, the prediction error is composed of two different errors\n",
    "1. Bias\n",
    "2. Variance\n",
    "\n",
    "It is important to understand the variance and bias trade-off which tells about to minimize the Bias and Variance in the prediction and avoids overfitting & under fitting of the model.\n",
    "\n",
    "**Bias:** It is the difference between the expected or average prediction of the model and the correct value which we are trying to predict. Imagine if we are trying to build more than one model by collecting different data sets, and later on, evaluating the prediction, we may end up by different prediction for all the models. So, bias is something which measures how far these model prediction from the correct prediction. It always leads to a high error in training and test data. In other words, bias is the relationship between data points.\n",
    "\n",
    "**Variance:** Variability of a model prediction for a given data point. We can build the model multiple times, so the variance is how much the predictions for a given point vary between different realizations of the model. In other words in machine learning, the difference in fits between data sets is called **Variance**.\n",
    "\n",
    "![](../pics/12.png)\n",
    "\n",
    "We should ask ourselves, why we should get a look for a bias and variance trade-off,\n",
    "- it can avoid you from underfitting and overfitting\n",
    "- it can help you to tune complexity of your model"
   ]
  },
  {
   "cell_type": "markdown",
   "metadata": {},
   "source": [
    "<a id='6'></a>"
   ]
  },
  {
   "cell_type": "markdown",
   "metadata": {},
   "source": [
    "## Ensemble of models 101 \n",
    "\n",
    "First, lets talk about ensembles, in a few words ensembles recommended itself like a most effective algorithms, thats showing awesome results in kaggle competitions. The main idea of ensembles is that big amount of small and weak algorithms can gain more effective results than single model. \n",
    "#### Ensemble methods: bagging, boosting and stacking.\n",
    "\n",
    "in this section we will start from the example with weak and strong students and will cover three main types of ensembles. Then we will discuss more clearly about bagging and recap jargons like bootstrap, bagging and random forest. in the third section finally, we will see, how boosting works, and get an answer, what is the difference between adaboost and gradient boost. Additionally in the end of this section about ensembles we will talk stacking.\n",
    "\n",
    "\n",
    "### Finally what is the ensembles???\n",
    "\n",
    "it is the paradigm of machine learning algorithms - where several weak models are learning to solve one exact objective, then they are come together  to give one common more exact answer. Main approach of the ensembles is \n",
    "that with right combinations of weak model we can get more effective results.\n",
    "\n",
    "Indeed, in machine learning independent  what we are going to predict, classification or regression the main key of good results is the **model selection**. Model selection depends for many factors like: amount of data, type of data, dimension of space, hypothesises about distribution of data etc. Interesting? Ok, thats great, but about it we will talk in other lessons :) now lets understand what is these three types of ensemble :)\n",
    "\n",
    "### Bagging, Boosting, Stacking\n",
    "Decision trees have been around for a long time and also known to suffer from bias and variance. You will have a large bias with simple trees and a large variance with complex trees.\n",
    "\n",
    "\n",
    "\n",
    "**Bagging (Bootstrap Aggregation)** is used when our goal is to reduce the variance of a decision tree. Here the idea is to create several subsets of data from the training sample chosen randomly with replacement. Now, each collection of subset data is used to train their decision trees. As a result, we end up with an ensemble of different models. Average of all the predictions from different trees are used which is more robust than a single decision tree. Models in bagging are independent from each other.\n",
    "\n",
    "**Boosting** is another ensemble technique to create a collection of predictors. In this technique, learners are learned sequentially with early learners fitting simple models to the data and then analyzing data for errors. In other words, we fit consecutive trees (random sample), and at every step, the goal is to solve for net error from the prior tree. When a hypothesis misclassifies an input, its weight is increased, so that the next hypothesis is more likely to classify it correctly. By combining the whole set at the end converts weak learners into a better performing model. For better understanding how boosting workds, we should to check how wokrds adaptive boosting and gradient boosting, now in a few words we can say that adaptive boosting updates the weights attached to each of the training dataset objects, while gradient boosting updates the values of these objects. This difference comes from the fact that both methods try to solve the optimization problem, which consists in finding the best model, which can be written as a weighted sum of weak students.\n",
    "\n",
    "**Stacking** for the first view it it a little bit complicated, fourtunetaly it is also easy. models learned independent for each other, then we will do some metamodel which selects some amount of models and from these model we generate the final results.\n",
    "\n",
    "In general we can say that bagging tries to decrease variance, boosting and stacking tries to generate strong model with more less bias than their components.\n",
    "\n",
    "### in the next lessons we will have practive lessons with these ensembles, now lets go on with theory."
   ]
  },
  {
   "cell_type": "markdown",
   "metadata": {},
   "source": [
    "<a id='7'></a>"
   ]
  },
  {
   "cell_type": "markdown",
   "metadata": {},
   "source": [
    "## What is the SVM classification?\n",
    "\n",
    "`A Support Vector Machine (SVM) is a discriminative classifier formally defined by a separating hyperplane. In other words, given labeled training data (supervised learning), the algorithm outputs an optimal hyperplane which categorizes new examples. In two dimentional space this hyperplane is a line dividing a plane in two parts where in each class lay in either side.`\n",
    "\n",
    "SVM or Large margin classifier is a supervised learning algorithm that uses a powerful technique\n",
    "called SVM for classification.\n",
    "\n",
    "We have two types of SVM classifiers:\n",
    "1. Linear SVM: In Linear SVM, the data points are expected to be separated by some apparent\n",
    "gap. Therefore, the SVM algorithm predicts a straight hyperplane dividing the two classes. The\n",
    "hyperplane is also called as maximum margin hyperplane\n",
    "\n",
    "![](../pics/15.png)\n",
    "\n",
    "2. Non-Linear SVM: It is possible that our data points are not linearly separable in a p-\n",
    "dimensional space, but can be linearly separable in a higher dimension. Kernel tricks make it\n",
    "possible to draw nonlinear hyperplanes. Some standard kernels are a) Polynomial Kernel b) RBF\n",
    "kernel(mostly used)\n",
    "\n",
    "![](../pics/16.png)\n",
    "\n",
    "**Advantages of SVM classifier:**\n",
    "1. SVMs are effective when the number of features is quite large.\n",
    "2. It works effectively even if the number of features is greater than the number of samples.\n",
    "3. Non-Linear data can also be classified using customized hyperplanes built by using kernel trick.\n",
    "4. It is a robust model to solve prediction problems since it maximizes margin.\n",
    "\n",
    "**Disadvantages of SVM classifier:**\n",
    "1. The biggest limitation of the Support Vector Machine is the choice of the kernel. The wrong choice of the kernel can lead to an increase in error percentage.\n",
    "2. With a greater number of samples, it starts giving poor performances.\n",
    "3. SVMs have good generalization performance, but they can be extremely slow in the test phase.\n",
    "4. SVMs have high algorithmic complexity and extensive memory requirements due to the use of quadratic programming.\n",
    "\n",
    "\n",
    "Here maybe you will be confused about some words like: kernels, hyperlines, ok!\n",
    "\n",
    "Hyperlines it is just lines that lies in multidimensional data.\n",
    "\n",
    "Let's see more clearly about kernels with the example.\n",
    "\n",
    "We know the purpose of SVM, just separate data for classes, and  with data like above it is easy to do. What if I will ask you to separate data below?:\n",
    "\n",
    "![](../pics/17.png)\n",
    "\n",
    "for the first view it is a litle bit hard, because clearly there is no line that can separate these two classes. So what do we do? We apply transformation and add one more dimension as we call z-axis. Lets assume value of points on z plane, **w=x^2+y^2**.  In this case we can manipulate it as distance of point from z-origin. Now if we plot in z-axis, a clear separation is visible and a line can be drawn.\n",
    "\n",
    "\n",
    "\n",
    "![](../pics/18.png)\n",
    "\n",
    "When we transform back this line to original plane, it maps to circular boundary as shown in image E. These transformations are called **kernels.**\n",
    "\n",
    "![](../pics/19.png)\n",
    "\n",
    "# Good news, you don’t have to guess/ derive the transformation every time for your data set. The sklearn library's SVM implementation provides it by itself.\n",
    "\n",
    "Okay here we understood what is the SVM, hyperlines and kernels, let's consider a little bit complex situations. What if data points is overlaps? Or, what in case some of the black points are inside the blue ones? Which line among 1 or 2?should we draw? (1 with some outliers, 2 without any otuliers)\n",
    "\n",
    "Which one do you think? Well, both the answers are correct. The first one tolerates some outlier points. The second one is trying to achieve 0 tolerance with perfect partition.\n",
    "But, there is **trade off**. In real world application, finding perfect class for millions of training data set takes lot of time. As you will see in coding. This is called regularization parameter. In next section, we define two terms regularization parameter and **gamma**. These are tuning parameters in SVM classifier. Varying those we can achive considerable non linear classification line with more accuracy in reasonable amount of time. In coding exercise (part 2 of this chapter about SVM) we shall see how we can increase the accuracy of SVM by tuning these parameters.\n",
    "\n",
    "# Lets talk about termins in SVM, clearly tuning parameters: kernel, regularization, gamma and margin.\n",
    "\n",
    "## Kernel\n",
    "The learning of the hyperplane in linear SVM is done by transforming the problem using some linear algebra. This is where the kernel plays role.\n",
    "For **linear kernel** the equation for prediction for a new input using the dot product between the input (x) and each support vector (xi) is calculated as follows:\n",
    "\n",
    "`f(x) = B(0) + sum(ai * (x,xi))`\n",
    "\n",
    "This is an equation that involves calculating the inner products of a new input vector (x) with all support vectors in training data. The coefficients B0 and ai (for each input) must be estimated from the training data by the learning algorithm.\n",
    "\n",
    "The polynomial kernel can be written as K(x,xi) = 1 + sum(x * xi)^d and exponential as K(x,xi) = exp(-gamma * sum((x — xi²)). [Source for this excerpt : http://machinelearningmastery.com/].\n",
    "Polynomial and exponential kernels calculates separation line in higher dimension. This is called kernel trick\n",
    "\n",
    "## Regularization\n",
    "\n",
    "The Regularization parameter (often termed as C parameter in python’s sklearn library) tells the SVM optimization how much you want to avoid misclassifying each training example.\n",
    "\n",
    "For large values of C, the optimization will choose a smaller-margin hyperplane if that hyperplane does a better job of getting all the training points classified correctly. Conversely, a very small value of C will cause the optimizer to look for a larger-margin separating hyperplane, even if that hyperplane misclassifies more points.\n",
    "\n",
    "The images below (same as image 1 and image 2 in section 2) are example of two different regularization parameter. First one has some misclassification due to lower regularization value. Higher value leads to results like right one.\n",
    "\n",
    "The images below (same as image 1 and image 2 in section 2) are example of two different regularization parameter. Second one has some misclassification due to lower regularization value. Higher value leads to results like right one.\n",
    "\n",
    "1\n",
    "![1](../pics/20.png)\n",
    "2\n",
    "![2](../pics/22.png)\n",
    "\n",
    "\n",
    "## Gamma\n",
    "\n",
    "The gamma parameter defines how far the influence of a single training example reaches, with low values meaning ‘far’ and high values meaning ‘close’. In other words, with **low gamma**, points far away from plausible seperation line are considered in calculation for the seperation line. Where as **high gamma** means the points close to plausible line are considered in calculation.\n",
    "\n",
    "\n",
    "![](../pics/23.png)\n",
    "\n",
    "![](../pics/24.png)\n",
    "\n",
    "## Margin\n",
    "\n",
    "And finally last but very importrant characteristic of SVM classifier. SVM to core tries to achieve a good margin.\n",
    "\n",
    "#### A margin is a separation of line to the closest class points.\n",
    "\n",
    "A **good margin** is one where this separation is larger for both the classes. Images below gives to visual example of good and bad margin. A good margin allows the points to be in their respective classes without crossing to other class.\n",
    "\n",
    "![](../pics/25.png)\n",
    "![](../pics/26.png)\n",
    "\n",
    "\n",
    "### I think that you didn't use much the SVM, as Random Forest and Decision Tree, so lets do some practive with SVM.\n",
    "\n",
    "### Experemental example\n",
    "\n",
    "We are going to text classification using SVM :) lets download data [here](https://github.com/Gunjitbedi/Text-Classification/blob/master/corpus.csv)\n",
    "\n"
   ]
  },
  {
   "cell_type": "code",
   "execution_count": 59,
   "metadata": {},
   "outputs": [
    {
     "name": "stderr",
     "output_type": "stream",
     "text": [
      "[nltk_data] Downloading package punkt to /home/predator/nltk_data...\n",
      "[nltk_data]   Package punkt is already up-to-date!\n",
      "[nltk_data] Downloading package wordnet to /home/predator/nltk_data...\n",
      "[nltk_data]   Package wordnet is already up-to-date!\n"
     ]
    }
   ],
   "source": [
    "import pandas as pd\n",
    "import numpy as np\n",
    "from nltk.tokenize import word_tokenize\n",
    "from nltk import pos_tag\n",
    "from nltk.corpus import stopwords\n",
    "from nltk.stem import WordNetLemmatizer\n",
    "import nltk\n",
    "nltk.download('punkt')\n",
    "nltk.download('wordnet')\n",
    "from sklearn.preprocessing import LabelEncoder\n",
    "from collections import defaultdict\n",
    "from nltk.corpus import wordnet as wn\n",
    "from sklearn.feature_extraction.text import TfidfVectorizer\n",
    "from sklearn import model_selection, naive_bayes, svm\n",
    "from sklearn.metrics import accuracy_score\n",
    "np.random.seed(500)"
   ]
  },
  {
   "cell_type": "code",
   "execution_count": 60,
   "metadata": {},
   "outputs": [],
   "source": [
    "Corpus = pd.read_csv(\"../data/corpus.csv\",encoding='latin-1')\n"
   ]
  },
  {
   "cell_type": "markdown",
   "metadata": {},
   "source": [
    "Lets do preprocessing of data, because NLP can't understand inital format of our data, below the two main techniques for preprocessing text.\n",
    "\n",
    "* **Tokenization** This is a process of breaking a stream of text up into words, phrases, symbols, or other meaningful elements called tokens. The list of tokens becomes input for further processing. NLTK Library has word_tokenize and sent_tokenize to easily break a stream of text into a list of words or sentences, respectively.\n",
    "* **Word Stemming/Lemmatization** The aim of both processes is the same, reducing the inflectional forms of each word into a common base or root. Lemmatization is closely related to stemming. The difference is that a stemmer operates on a single word without knowledge of the context, and therefore cannot discriminate between words which have different meanings depending on part of speech. However, stemmers are typically easier to implement and run faster, and the reduced accuracy may not matter for some applications."
   ]
  },
  {
   "cell_type": "code",
   "execution_count": 61,
   "metadata": {},
   "outputs": [],
   "source": [
    "# 1. Remove NA\n",
    "Corpus['text'].dropna(inplace=True)\n",
    "# 2. To lowercase \n",
    "Corpus['text'] = [i.lower() for i in Corpus['text']]\n",
    "# 3. now when we can do tokenization\n",
    "Corpus['text'] = [word_tokenize(i) for i in Corpus['text']]\n",
    "# 4. Remove stopwords, Non-Numeric and perfom Word Stemming/Lemmenting.\n",
    "\n",
    "# WordNetLemmatizer requires Pos tags to understand if the word is noun or verb or adjective etc.\n",
    "# By default it is set to Noun\n",
    "\n",
    "tag_map = defaultdict(lambda : wn.NOUN)\n",
    "tag_map['J'] = wn.ADJ\n",
    "tag_map['V'] = wn.VERB\n",
    "tag_map['R'] = wn.ADV"
   ]
  },
  {
   "cell_type": "code",
   "execution_count": 62,
   "metadata": {},
   "outputs": [
    {
     "name": "stderr",
     "output_type": "stream",
     "text": [
      "[nltk_data] Downloading package averaged_perceptron_tagger to\n",
      "[nltk_data]     /home/predator/nltk_data...\n",
      "[nltk_data]   Package averaged_perceptron_tagger is already up-to-\n",
      "[nltk_data]       date!\n",
      "[nltk_data] Downloading package stopwords to\n",
      "[nltk_data]     /home/predator/nltk_data...\n",
      "[nltk_data]   Package stopwords is already up-to-date!\n"
     ]
    },
    {
     "data": {
      "text/plain": [
       "True"
      ]
     },
     "execution_count": 62,
     "metadata": {},
     "output_type": "execute_result"
    }
   ],
   "source": [
    "nltk.download('averaged_perceptron_tagger')\n",
    "nltk.download('stopwords')"
   ]
  },
  {
   "cell_type": "code",
   "execution_count": 63,
   "metadata": {},
   "outputs": [],
   "source": [
    "for index,entry in enumerate(Corpus['text']):\n",
    "    Final_words = []\n",
    "    word_Lemmatized = WordNetLemmatizer()\n",
    "    for word, tag in pos_tag(entry):\n",
    "        if word not in stopwords.words('english') and word.isalpha():\n",
    "            word_Final = word_Lemmatized.lemmatize(word,tag_map[tag[0]])\n",
    "            Final_words.append(word_Final)\n",
    "    Corpus.loc[index,'text_final'] = str(Final_words)"
   ]
  },
  {
   "cell_type": "code",
   "execution_count": 64,
   "metadata": {},
   "outputs": [],
   "source": [
    "Train_X, Test_X, Train_Y, Test_Y = model_selection.train_test_split(Corpus['text_final'],\n",
    "                                                                    Corpus['label'],\n",
    "                                                                    test_size=0.3)"
   ]
  },
  {
   "cell_type": "code",
   "execution_count": 65,
   "metadata": {},
   "outputs": [],
   "source": [
    "Encoder = LabelEncoder()\n",
    "Train_Y = Encoder.fit_transform(Train_Y)\n",
    "Test_Y = Encoder.fit_transform(Test_Y)"
   ]
  },
  {
   "cell_type": "markdown",
   "metadata": {},
   "source": [
    "### Word Vectorization\n",
    "It is a general process of turning a collection of text documents into numerical feature vectors.Their are many methods to convert text data to vectors which the model can understand but by far the most popular method is called TF-IDF. This is an acronym than stands for “Term Frequency — Inverse Document” Frequency which are the components of the resulting scores assigned to each word.\n",
    "\n",
    "* Term Frequency: This summarizes how often a given word appears within a document.\n",
    "* Inverse Document Frequency: This down scales words that appear a lot across documents.\n",
    "\n",
    "Without going into the math, TF-IDF are word frequency scores that try to highlight words that are more interesting, e.g. frequent in a document but not across documents.\n",
    "\n",
    "The following syntax can be used to first fit the TG-IDF model on the whole corpus. This will help TF-IDF build a vocabulary of words which it has learned from the corpus data and \n",
    "it will assign a unique integer number to each of these words. Their will be maximum of 5000 unique words/features as we have set parameter max_features=5000.\n",
    "\n",
    "Finally we will transform Train_X and Test_X to vectorized Train_X_Tfidf and Test_X_Tfidf. These will now contain for each row a list of unique integer number and its associated importance as calculated by TF-IDF."
   ]
  },
  {
   "cell_type": "code",
   "execution_count": 66,
   "metadata": {},
   "outputs": [],
   "source": [
    "Tfidf_vect = TfidfVectorizer(max_features=5000)\n",
    "Tfidf_vect.fit(Corpus['text_final'])\n",
    "Train_X_Tfidf = Tfidf_vect.transform(Train_X)\n",
    "Test_X_Tfidf = Tfidf_vect.transform(Test_X)"
   ]
  },
  {
   "cell_type": "markdown",
   "metadata": {},
   "source": [
    "You can use the below syntax to see the vocabulary that it has learned from the corpus"
   ]
  },
  {
   "cell_type": "code",
   "execution_count": 67,
   "metadata": {},
   "outputs": [
    {
     "name": "stdout",
     "output_type": "stream",
     "text": [
      "SVM Accuracy Score ->  84.66666666666667\n"
     ]
    }
   ],
   "source": [
    "SVM = svm.SVC(C=1.0, kernel='linear', degree=3, gamma='auto')\n",
    "SVM.fit(Train_X_Tfidf,Train_Y)\n",
    "predictions_SVM = SVM.predict(Test_X_Tfidf)\n",
    "print(\"SVM Accuracy Score -> \",accuracy_score(predictions_SVM, Test_Y)*100)"
   ]
  },
  {
   "cell_type": "code",
   "execution_count": 68,
   "metadata": {},
   "outputs": [],
   "source": [
    "from sklearn.model_selection import GridSearchCV\n",
    "from sklearn.svm import SVC"
   ]
  },
  {
   "cell_type": "code",
   "execution_count": 69,
   "metadata": {},
   "outputs": [],
   "source": [
    "param_grid = {'C': [0.1, 1, 10, 100, 1000],  \n",
    "              'gamma': [1, 0.1, 0.01, 0.001, 0.0001], \n",
    "              'kernel': ['rbf']}  \n",
    "  \n",
    "grid = GridSearchCV(SVC(), param_grid, refit = True, verbose = 3) \n",
    "#grid.fit(Train_X_Tfidf, Train_Y)  just exclude comment"
   ]
  },
  {
   "cell_type": "code",
   "execution_count": null,
   "metadata": {},
   "outputs": [],
   "source": []
  },
  {
   "cell_type": "markdown",
   "metadata": {},
   "source": [
    "<a id='8'></a>"
   ]
  },
  {
   "cell_type": "markdown",
   "metadata": {},
   "source": [
    "## Naive Bayes Classification and Gaussian Naive Bayes \n",
    "\n",
    "Bayes’ Theorem finds the probability of an event occurring given the probability of another event that has already occurred. Bayes’ theorem is stated mathematically as the following equation:\n",
    "\n",
    "![](../pics/27.png)\n",
    "\n",
    "Now, with regards to our dataset, we can apply Bayes’ theorem in following way:\n",
    "\n",
    "**P(y|X) = {P(X|y) P(y)}/{P(X)}**\n",
    "\n",
    "where, y is class variable and X is a dependent feature vector (of size n) where:\n",
    "\n",
    "**X = (x_1,x_2,x_3,.....,x_n)**\n",
    "\n",
    "![](../pics/28.png)\n",
    "\n",
    "To clear, an example of a feature vector and corresponding class variable can be: (refer 1st row of the dataset)\n",
    "\n",
    "- **X = (Rainy, Hot, High, False)**\n",
    "- **y = No So basically**\n",
    "- **P(X|y)** here means, the probability of “Not playing golf” given that the weather conditions are “Rainy outlook”, “Temperature is hot”, “high humidity” and “no wind”.\n",
    "\n",
    "### Naive Bayes Classification:\n",
    "1. We assume that no pair of features are dependent. For example, the temperature being ‘Hot’ has nothing to do with the humidity, or the outlook being ‘Rainy’ does not affect the winds. Hence, the features are assumed to be independent.\n",
    "2. Secondly, each feature is given the same weight (or importance). For example, knowing the only temperature and humidity alone can’t predict the outcome accurately. None of the attributes is irrelevant and assumed to be contributing equally to the outcome\n",
    "\n",
    "### Gaussian Naive Bayes\n",
    "Continuous values associated with each feature are assumed to be distributed according to a Gaussian distribution. A Gaussian distribution is also called Normal distribution. When plotted, it gives a bell-shaped curve which is symmetric about the mean of the feature values.\n",
    "\n",
    "This is as simple as calculating the mean and standard deviation values of each input variable (x) for each class value.\n",
    "\n",
    "* Mean (x) = 1/n * sum(x)\n",
    "\n",
    "Where **n** is the number of instances, and x is the values for an input variable in your training data.\n",
    "\n",
    "We can calculate the standard deviation using the following equation:\n",
    "\n",
    "Standard deviation(x) = sqrt (1/n * sum(xi-mean(x)^2 ))\n",
    "\n",
    "When to use what? Standard Naive Bayes only supports categorical features, while Gaussian Naive Bayes only supports continuously valued features."
   ]
  },
  {
   "cell_type": "code",
   "execution_count": 70,
   "metadata": {},
   "outputs": [
    {
     "name": "stdout",
     "output_type": "stream",
     "text": [
      "Naive Bayes Accuracy Score ->  83.23333333333333\n"
     ]
    }
   ],
   "source": [
    "# fit the training dataset on the NB classifier\n",
    "Naive = naive_bayes.MultinomialNB()\n",
    "Naive.fit(Train_X_Tfidf,Train_Y)\n",
    "# predict the labels on validation dataset\n",
    "predictions_NB = Naive.predict(Test_X_Tfidf)\n",
    "# Use accuracy_score function to get the accuracy\n",
    "print(\"Naive Bayes Accuracy Score -> \",accuracy_score(predictions_NB, Test_Y)*100)"
   ]
  },
  {
   "cell_type": "markdown",
   "metadata": {},
   "source": [
    "<a id='9'></a>"
   ]
  },
  {
   "cell_type": "markdown",
   "metadata": {},
   "source": [
    "## Metrics\n",
    "\n",
    "lets have a fun and just recap a little bit abour classification metrics.."
   ]
  },
  {
   "cell_type": "markdown",
   "metadata": {},
   "source": [
    "<a id='9.1'></a>"
   ]
  },
  {
   "cell_type": "markdown",
   "metadata": {},
   "source": [
    "### Confusion matrix\n",
    "A confusion matrix is a table that is often used to describe the performance of a classification model (or “classifier”) on a set of test data for which the true values are known. It allows the visualization of the performance of an algorithm. A confusion matrix is a summary of prediction results on a classification problem. The number of correct and incorrect predictions are summarized with count values and broken down by each class.\n",
    "This is the key to the confusion matrix. It gives us insight not only into the errors being made by a classifier but, more importantly, the types of errors that are being made.\n",
    "\n",
    "Definition of the Terms:\n",
    "1. Positive (P): Observation is positive (for example: is an apple).\n",
    "2. Negative (N): Observation is not positive (for example: is not an apple).\n",
    "3. True Positive (TP): Observation is positive, and is predicted to be positive.\n",
    "4. False Negative (FN): Observation is positive, but is predicted negative.\n",
    "5. True Negative (TN): Observation is negative, and is predicted to be negative.\n",
    "6. False Positive (FP): Observation is negative, but is predicted positive."
   ]
  },
  {
   "cell_type": "markdown",
   "metadata": {},
   "source": [
    "<a id='9.2'></a>"
   ]
  },
  {
   "cell_type": "markdown",
   "metadata": {},
   "source": [
    "### Accuracy and Missclassification Rate\n",
    "Accuracy is defined as the ratio of the sum of True Positive and True Negative by Total(TP+TN+FP+FN)\n",
    "However, there are problems with accuracy. It assumes equal costs for both kinds of\n",
    "errors. A 99% accuracy can be excellent, good, medium, poor, or terrible depending upon the problem.\n",
    "\n",
    "\n",
    "Misclassification Rate is defined as the ratio of the sum of False Positive and False\n",
    "Negative by Total(TP+TN+FP+FN)\n",
    "Misclassification Rate is also called Error Rate.\n",
    "\n",
    "![](../pics/13.png)"
   ]
  },
  {
   "cell_type": "markdown",
   "metadata": {},
   "source": [
    "<a id='9.3'></a>"
   ]
  },
  {
   "cell_type": "markdown",
   "metadata": {},
   "source": [
    "### True Positive Rate & True Negative Rate\n",
    "\n",
    "- True Positive Rate:\n",
    "Sensitivity (SN) is calculated as the number of correct positive predictions divided by the\n",
    "total number of positives. It is also called Recall (REC) or true positive rate (TPR). The best\n",
    "sensitivity is 1.0, whereas the worst is 0.0.\n",
    "\n",
    "- True Negative Rate\n",
    "Specificity (SP) is calculated as the number of correct negative predictions divided by the\n",
    "total number of negatives. It is also called a true negative rate (TNR). The best specificity is\n",
    "1.0, whereas the worst is 0.0."
   ]
  },
  {
   "cell_type": "markdown",
   "metadata": {},
   "source": [
    "<a id='9.4'></a>"
   ]
  },
  {
   "cell_type": "markdown",
   "metadata": {},
   "source": [
    "### False Positive Rate & False Negative Rate\n",
    "\n",
    "- False Positive Rate\n",
    "False positive rate (FPR) is calculated as the number of incorrect positive predictions divided by the\n",
    "total number of negatives. The best false positive rate is 0.0, whereas the worst is 1.0. It can also be\n",
    "calculated as 1 – specificity.\n",
    "- False Negative Rate\n",
    "False Negative rate (FPR) is calculated as the number of incorrect positive predictions divided by\n",
    "the total number of positives. The best false negative rate is 0.0, whereas the worst is 1.0.\n",
    "\n",
    "![](../pics/14.png)"
   ]
  },
  {
   "cell_type": "markdown",
   "metadata": {},
   "source": [
    "<a id='9.5'></a>"
   ]
  },
  {
   "cell_type": "markdown",
   "metadata": {},
   "source": [
    "### F1 Score, precision and recall\n",
    "\n",
    "Recall can be defined as the ratio of the total number of correctly classified positive examples\n",
    "divide to the total number of positive examples.\n",
    "1. High Recall indicates the class is correctly recognized (small number of FN).\n",
    "2. Low Recall indicates the class is incorrectly recognized (large number of FN).\n",
    "\n",
    "\n",
    "To get the value of precision, we divide the total number of correctly classified positive examples\n",
    "by the total number of predicted positive examples.\n",
    "1. High Precision indicates an example labeled as positive is indeed positive (a small number\n",
    "of FP).\n",
    "2. Low Precision indicates an example labeled as positive is indeed positive (large number of\n",
    "FP).\n",
    "\n",
    "\n",
    "* Remember:\n",
    "\n",
    "`High recall, low precision: This means that most of the positive examples are correctly recognized\n",
    "(low FN), but there are a lot of false positives.\n",
    "Low recall, high precision: This shows that we miss a lot of positive examples (high FN), but those\n",
    "we predict as positive are indeed positive (low FP).`\n",
    "\n",
    "Since we have two measures (Precision and Recall), it helps to have a measurement that represents\n",
    "both of them. We calculate an F-measure, which uses Harmonic Mean in place of Arithmetic\n",
    "Mean as it punishes the extreme values more."
   ]
  },
  {
   "cell_type": "markdown",
   "metadata": {},
   "source": [
    "<a id='10'></a>"
   ]
  },
  {
   "cell_type": "markdown",
   "metadata": {},
   "source": [
    "## Randomized Search CV\n",
    "Randomized search CV is used to perform a random search on hyperparameters. Randomized\n",
    "search CV uses a fit and score method, predict proba, decision_func, transform, etc..,\n",
    "The parameters of the estimator used to apply these methods are optimized by cross-validated\n",
    "search over parameter settings.\n",
    "\n",
    "In contrast to GridSearchCV, not all parameter values are tried out, but rather a fixed number of\n",
    "parameter settings is sampled from the specified distributions. The number of parameter settings that\n",
    "are tried is given by n_iter."
   ]
  },
  {
   "cell_type": "markdown",
   "metadata": {},
   "source": [
    "<a id='11'></a>"
   ]
  },
  {
   "cell_type": "markdown",
   "metadata": {},
   "source": [
    "## GridSearch CV\n",
    "Grid search is the process of performing hyperparameter tuning to determine the optimal values for\n",
    "a given model. Grid search runs the model on all the possible range of hyperparameter values and outputs the best\n",
    "model"
   ]
  },
  {
   "cell_type": "markdown",
   "metadata": {},
   "source": [
    "<a id='12'></a>"
   ]
  },
  {
   "cell_type": "markdown",
   "metadata": {},
   "source": [
    "## BayesianSearch CV\n",
    "Bayesian search, in contrast to the grid and random search, keeps track of past evaluation results,\n",
    "which they use to form a probabilistic model mapping hyperparameters to a probability of a score on\n",
    "the objective function."
   ]
  },
  {
   "cell_type": "markdown",
   "metadata": {},
   "source": [
    "<a id='13'></a>"
   ]
  },
  {
   "cell_type": "markdown",
   "metadata": {},
   "source": [
    "## ZCA Whitening"
   ]
  },
  {
   "cell_type": "markdown",
   "metadata": {},
   "source": [
    "## References\n",
    "1. [ML 101](https://medium.com/machine-learning-101/chapter-2-svm-support-vector-machine-theory-f0812effc72)\n",
    "2. [SVM Parameter Tuning in Scikit Learn using GridSearchCV](https://medium.com/@aneesha/svm-parameter-tuning-in-scikit-learn-using-gridsearchcv-2413c02125a0?source=search_post---------3)"
   ]
  },
  {
   "cell_type": "code",
   "execution_count": 71,
   "metadata": {},
   "outputs": [
    {
     "name": "stdout",
     "output_type": "stream",
     "text": [
      "[NbConvertApp] Converting notebook ML2.ipynb to html\n",
      "[NbConvertApp] Writing 659078 bytes to ML2.html\n"
     ]
    }
   ],
   "source": [
    " ! jupyter nbconvert --to html ML2.ipynb"
   ]
  },
  {
   "cell_type": "code",
   "execution_count": 8,
   "metadata": {},
   "outputs": [
    {
     "data": {
      "text/plain": [
       "0.675"
      ]
     },
     "execution_count": 8,
     "metadata": {},
     "output_type": "execute_result"
    }
   ],
   "source": [
    "27/40"
   ]
  },
  {
   "cell_type": "code",
   "execution_count": null,
   "metadata": {},
   "outputs": [],
   "source": []
  }
 ],
 "metadata": {
  "kernelspec": {
   "display_name": "Python 3",
   "language": "python",
   "name": "python3"
  },
  "language_info": {
   "codemirror_mode": {
    "name": "ipython",
    "version": 3
   },
   "file_extension": ".py",
   "mimetype": "text/x-python",
   "name": "python",
   "nbconvert_exporter": "python",
   "pygments_lexer": "ipython3",
   "version": "3.7.3"
  }
 },
 "nbformat": 4,
 "nbformat_minor": 2
}
